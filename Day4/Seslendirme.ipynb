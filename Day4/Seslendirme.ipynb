{
 "cells": [
  {
   "cell_type": "markdown",
   "id": "a7f1cb7e-f9de-4aa1-a710-a5396ed5993f",
   "metadata": {},
   "source": [
    "# Text to Speech (Metin Seslendirme)"
   ]
  },
  {
   "cell_type": "code",
   "execution_count": 2,
   "id": "d3e3abf0-4f0a-45c0-8f63-9ff21068ca6b",
   "metadata": {},
   "outputs": [
    {
     "name": "stdout",
     "output_type": "stream",
     "text": [
      "Defaulting to user installation because normal site-packages is not writeable\n",
      "Requirement already satisfied: gtts in c:\\users\\cotak_8sfhz1n\\appdata\\roaming\\python\\python312\\site-packages (2.5.3)\n",
      "Requirement already satisfied: requests<3,>=2.27 in c:\\programdata\\anaconda3\\lib\\site-packages (from gtts) (2.32.2)\n",
      "Requirement already satisfied: click<8.2,>=7.1 in c:\\programdata\\anaconda3\\lib\\site-packages (from gtts) (8.1.7)\n",
      "Requirement already satisfied: colorama in c:\\programdata\\anaconda3\\lib\\site-packages (from click<8.2,>=7.1->gtts) (0.4.6)\n",
      "Requirement already satisfied: charset-normalizer<4,>=2 in c:\\programdata\\anaconda3\\lib\\site-packages (from requests<3,>=2.27->gtts) (2.0.4)\n",
      "Requirement already satisfied: idna<4,>=2.5 in c:\\programdata\\anaconda3\\lib\\site-packages (from requests<3,>=2.27->gtts) (3.7)\n",
      "Requirement already satisfied: urllib3<3,>=1.21.1 in c:\\programdata\\anaconda3\\lib\\site-packages (from requests<3,>=2.27->gtts) (2.2.2)\n",
      "Requirement already satisfied: certifi>=2017.4.17 in c:\\programdata\\anaconda3\\lib\\site-packages (from requests<3,>=2.27->gtts) (2024.8.30)\n",
      "Note: you may need to restart the kernel to use updated packages.\n"
     ]
    }
   ],
   "source": [
    "pip install gtts"
   ]
  },
  {
   "cell_type": "code",
   "execution_count": 3,
   "id": "59977a24-24a0-4975-934d-5a71cf73005c",
   "metadata": {},
   "outputs": [],
   "source": [
    "from gtts import gTTS\n",
    "text=\"Merhaba ben yapay zeka asistanıyım.Size nasıl yardımcı olabilirim.\"\n",
    "kayit=gTTS(text=text,lang=\"tr\",slow=False)\n",
    "kayit.save(\"test.mp3\")"
   ]
  },
  {
   "cell_type": "code",
   "execution_count": 4,
   "id": "6746032a-ea89-4fc8-ad3b-bc4008355453",
   "metadata": {},
   "outputs": [],
   "source": [
    "kayit=gTTS(text=text,lang=\"ru\",slow=False)\n",
    "kayit.save(\"test_ru.mp3\")"
   ]
  },
  {
   "cell_type": "code",
   "execution_count": 5,
   "id": "3765989f-37d9-4691-a5f2-f5afa6f394cc",
   "metadata": {},
   "outputs": [],
   "source": [
    "def filetospeech(file_path,lang_input='tr',slow=False):\n",
    "    from gtts import gTTS\n",
    "    metin=''\n",
    "    try:\n",
    "        with open (file_path,'r',encoding='utf-8') as file:\n",
    "            for line in file:\n",
    "                metin+=line\n",
    "        print(metin)\n",
    "        kayit=gTTS(text=metin,lang='tr',slow=False)\n",
    "        dosya_adi=str(metin[:5])\n",
    "        dosya_adi+='.mp3'\n",
    "        kayit.save(dosya_adi)\n",
    "        print('Ses kaydedildi.:',dosya_adi)\n",
    "    except:\n",
    "        print('Ses kaydedilemedi.')"
   ]
  }
 ],
 "metadata": {
  "kernelspec": {
   "display_name": "Python 3 (ipykernel)",
   "language": "python",
   "name": "python3"
  },
  "language_info": {
   "codemirror_mode": {
    "name": "ipython",
    "version": 3
   },
   "file_extension": ".py",
   "mimetype": "text/x-python",
   "name": "python",
   "nbconvert_exporter": "python",
   "pygments_lexer": "ipython3",
   "version": "3.12.4"
  }
 },
 "nbformat": 4,
 "nbformat_minor": 5
}
