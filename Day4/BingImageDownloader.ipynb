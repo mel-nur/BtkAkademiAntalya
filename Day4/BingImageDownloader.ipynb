{
 "cells": [
  {
   "cell_type": "markdown",
   "id": "503f0499-9e9b-4910-bc27-1a2c6f409f36",
   "metadata": {},
   "source": [
    "# Bing Image Downloader"
   ]
  },
  {
   "cell_type": "code",
   "execution_count": 2,
   "id": "8ba12b61-7ca8-4a38-9f93-e2cb75731b2e",
   "metadata": {},
   "outputs": [
    {
     "name": "stdout",
     "output_type": "stream",
     "text": [
      "Defaulting to user installation because normal site-packages is not writeable\n",
      "Collecting bing-image-downloader\n",
      "  Downloading bing_image_downloader-1.1.2-py3-none-any.whl.metadata (2.8 kB)\n",
      "Downloading bing_image_downloader-1.1.2-py3-none-any.whl (5.9 kB)\n",
      "Installing collected packages: bing-image-downloader\n",
      "Successfully installed bing-image-downloader-1.1.2\n",
      "Note: you may need to restart the kernel to use updated packages.\n"
     ]
    }
   ],
   "source": [
    "pip install bing-image-downloader"
   ]
  },
  {
   "cell_type": "code",
   "execution_count": 6,
   "id": "7d7505d8-0854-436d-821f-e5a231c71831",
   "metadata": {},
   "outputs": [],
   "source": [
    "from bing_image_downloader import downloader"
   ]
  },
  {
   "cell_type": "code",
   "execution_count": 8,
   "id": "43b80626-66f6-40d5-940d-3e1c32903b1e",
   "metadata": {},
   "outputs": [
    {
     "name": "stdout",
     "output_type": "stream",
     "text": [
      "[%] Downloading Images to C:\\Users\\cotak_8sfhz1n\\BtkAkademiAntalya\\Day4\\cat\n",
      "\n",
      "\n",
      "[!!]Indexing page: 1\n",
      "\n",
      "[%] Indexed 20 Images on Page 1.\n",
      "\n",
      "===============================================\n",
      "\n",
      "[%] Downloading Image #1 from https://i.natgeofe.com/n/548467d8-c5f1-4551-9f58-6817a8d2c45e/NationalGeographic_2572187_square.jpg\n",
      "[%] File Downloaded !\n",
      "\n",
      "[%] Downloading Image #2 from https://get.pxhere.com/photo/animal-pet-kitten-cat-small-mammal-fauna-heal-blue-eye-close-up-nose-whiskers-vertebrate-domestic-lying-tabby-cat-norwegian-forest-cat-ginger-fur-small-to-medium-sized-cats-cat-like-mammal-carnivoran-domestic-short-haired-cat-domestic-long-haired-cat-609263.jpg\n",
      "[%] File Downloaded !\n",
      "\n",
      "[%] Downloading Image #3 from https://static.pexels.com/photos/45201/kitty-cat-kitten-pet-45201.jpeg\n",
      "[%] File Downloaded !\n",
      "\n",
      "[%] Downloading Image #4 from https://www.pbs.org/wnet/nature/files/2014/09/ExtraordinaryCats-Main.jpg\n",
      "[!] Issue getting: https://www.pbs.org/wnet/nature/files/2014/09/ExtraordinaryCats-Main.jpg\n",
      "[!] Error:: HTTP Error 403: Forbidden\n",
      "[%] Downloading Image #4 from https://i.natgeofe.com/k/ad9b542e-c4a0-4d0b-9147-da17121b4c98/MOmeow1_square.png\n",
      "[%] File Downloaded !\n",
      "\n",
      "[%] Downloading Image #5 from https://wallpaperaccess.com/full/2111331.jpg\n",
      "[%] File Downloaded !\n",
      "\n",
      "[%] Downloading Image #6 from https://get.pxhere.com/photo/white-animal-pet-fur-portrait-young-kitten-cat-mammal-close-up-face-nose-eyes-whiskers-scary-kitty-eye-furry-ears-head-skin-vertebrate-funny-weird-domestic-small-to-medium-sized-cats-cat-like-mammal-carnivoran-domestic-short-haired-cat-domestic-long-haired-cat-1259927.jpg\n",
      "[%] File Downloaded !\n",
      "\n",
      "[%] Downloading Image #7 from http://images6.fanpop.com/image/photos/36700000/Cats-image-cats-36712807-1600-1200.jpg\n",
      "[%] File Downloaded !\n",
      "\n",
      "[%] Downloading Image #8 from http://www.alleycat.org/wp-content/uploads/2019/03/FELV-cat.jpg\n",
      "[%] File Downloaded !\n",
      "\n",
      "[%] Downloading Image #9 from http://upload.wikimedia.org/wikipedia/commons/c/c7/Domestic_shorthaired_cat_face.jpg\n",
      "[%] File Downloaded !\n",
      "\n",
      "[%] Downloading Image #10 from https://upload.wikimedia.org/wikipedia/commons/thumb/4/4d/Cat_November_2010-1a.jpg/1200px-Cat_November_2010-1a.jpg\n",
      "[%] File Downloaded !\n",
      "\n",
      "[%] Downloading Image #11 from http://www.baltana.com/files/wallpapers-2/Cute-Cat-Images-07756.jpg\n",
      "[%] File Downloaded !\n",
      "\n",
      "[%] Downloading Image #12 from https://images2.alphacoders.com/716/71660.jpg\n",
      "[%] File Downloaded !\n",
      "\n",
      "[%] Downloading Image #13 from https://img.jagranjosh.com/images/2023/January/1712023/ragdoll-top-10-cat-breeds.jpg\n",
      "[%] File Downloaded !\n",
      "\n",
      "[%] Downloading Image #14 from https://www.petage.com/wp-content/uploads/2019/09/Depositphotos_74974941_xl-2015-e1569443284386-1024x958.jpg\n",
      "[%] File Downloaded !\n",
      "\n",
      "[%] Downloading Image #15 from https://i.pinimg.com/originals/a2/17/40/a21740a7b0f6b96a92e4805c8df8aa7e.jpg\n",
      "[%] File Downloaded !\n",
      "\n",
      "[%] Downloading Image #16 from https://icatcare.org/app/uploads/2018/07/Thinking-of-getting-a-cat.png\n",
      "[%] File Downloaded !\n",
      "\n",
      "[%] Downloading Image #17 from https://www.thesprucepets.com/thmb/lE6PNkkthkF_osRnyxjhAwhsl6k=/2098x1428/filters:no_upscale():max_bytes(150000):strip_icc()/GettyImages-1020755214-2b4b78c2b0c0458fbc0a2a99356c6e9b.jpg\n",
      "[%] File Downloaded !\n",
      "\n",
      "[%] Downloading Image #18 from https://ukmadcat.com/wp-content/uploads/2019/04/sleepy-cat.jpg\n",
      "[%] File Downloaded !\n",
      "\n",
      "[%] Downloading Image #19 from http://upload.wikimedia.org/wikipedia/commons/d/d4/Cat_March_2010-1a.jpg\n",
      "[%] File Downloaded !\n",
      "\n",
      "\n",
      "\n",
      "[!!]Indexing page: 2\n",
      "\n",
      "[%] Indexed 35 Images on Page 2.\n",
      "\n",
      "===============================================\n",
      "\n",
      "[%] Downloading Image #20 from https://cdn.pixabay.com/photo/2012/02/27/17/05/animal-17542_1280.jpg\n",
      "[%] File Downloaded !\n",
      "\n",
      "\n",
      "\n",
      "[%] Done. Downloaded 20 images.\n"
     ]
    }
   ],
   "source": [
    "downloader.download('cat',limit=20,output_dir='.',adult_filter_off=True,force_replace=False,timeout=60)"
   ]
  },
  {
   "cell_type": "code",
   "execution_count": null,
   "id": "e428d10a-1793-4db1-8b42-91b2b1f0da3d",
   "metadata": {},
   "outputs": [],
   "source": []
  }
 ],
 "metadata": {
  "kernelspec": {
   "display_name": "Python 3 (ipykernel)",
   "language": "python",
   "name": "python3"
  },
  "language_info": {
   "codemirror_mode": {
    "name": "ipython",
    "version": 3
   },
   "file_extension": ".py",
   "mimetype": "text/x-python",
   "name": "python",
   "nbconvert_exporter": "python",
   "pygments_lexer": "ipython3",
   "version": "3.12.4"
  }
 },
 "nbformat": 4,
 "nbformat_minor": 5
}
