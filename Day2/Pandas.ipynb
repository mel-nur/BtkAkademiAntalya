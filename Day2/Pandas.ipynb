{
 "cells": [
  {
   "attachments": {
    "369c2a34-c6fb-4c5f-aef6-f4be420fc822.jpg": {
     "image/jpeg": "[encoded data removed]"
    }
   },
   "cell_type": "markdown",
   "id": "f45955db-9c19-40bc-a5eb-d388d50a5471",
   "metadata": {},
   "source": [
    "![WhatsApp Görsel 2024-10-27 saat 14.48.31_fb6f9283.jpg](attachment:369c2a34-c6fb-4c5f-aef6-f4be420fc822.jpg)"
   ]
  },
  {
   "cell_type": "markdown",
   "id": "58989518-8761-4748-8b3b-f02780d5a578",
   "metadata": {},
   "source": [
    "## Açıklama\n",
    "Bu NB Pandas ile veri manipülasyonu işlemlerini içermektedir.\n",
    "Pandas Anaconda ile kurulu gelmektedir. Ancak numpy sürüm uyuşmazlığı olabilir."
   ]
  },
  {
   "cell_type": "code",
   "execution_count": 3,
   "id": "356487d7-daae-4bba-94cb-72bf51b253bc",
   "metadata": {},
   "outputs": [],
   "source": [
    "import pandas as pd"
   ]
  },
  {
   "cell_type": "code",
   "execution_count": 4,
   "id": "43518898-d90f-4e96-9b48-1675f671b181",
   "metadata": {},
   "outputs": [
    {
     "data": {
      "text/plain": [
       "'2.2.3'"
      ]
     },
     "execution_count": 4,
     "metadata": {},
     "output_type": "execute_result"
    }
   ],
   "source": [
    "pd.__version__"
   ]
  },
  {
   "cell_type": "markdown",
   "id": "3949a282-6cd5-44ef-8c65-c4a25009c31f",
   "metadata": {},
   "source": [
    "# Seriler"
   ]
  },
  {
   "cell_type": "code",
   "execution_count": 6,
   "id": "73353522-0db6-47b9-9313-ddb237db9bfd",
   "metadata": {},
   "outputs": [
    {
     "data": {
      "text/plain": [
       "0       Ali\n",
       "1      Veli\n",
       "2      Ayşe\n",
       "3     Ahmet\n",
       "4    Mehmet\n",
       "dtype: object"
      ]
     },
     "execution_count": 6,
     "metadata": {},
     "output_type": "execute_result"
    }
   ],
   "source": [
    "isimler=pd.Series([\"Ali\",\"Veli\",\"Ayşe\",\"Ahmet\",\"Mehmet\"])\n",
    "isimler"
   ]
  },
  {
   "cell_type": "code",
   "execution_count": 7,
   "id": "e902a351-9581-460e-84bf-67a3c9195934",
   "metadata": {},
   "outputs": [
    {
     "data": {
      "text/plain": [
       "pandas.core.series.Series"
      ]
     },
     "execution_count": 7,
     "metadata": {},
     "output_type": "execute_result"
    }
   ],
   "source": [
    "type(isimler)"
   ]
  },
  {
   "cell_type": "code",
   "execution_count": 8,
   "id": "0d50545b-5ba7-4b7d-a357-e76dfe1126db",
   "metadata": {},
   "outputs": [
    {
     "data": {
      "text/plain": [
       "'Ali'"
      ]
     },
     "execution_count": 8,
     "metadata": {},
     "output_type": "execute_result"
    }
   ],
   "source": [
    "isimler[0] #ilk kişi"
   ]
  },
  {
   "cell_type": "code",
   "execution_count": 9,
   "id": "446b9464-f28d-46be-b0a1-6e8d1e25bb95",
   "metadata": {},
   "outputs": [
    {
     "data": {
      "text/plain": [
       "0     Ali\n",
       "1    Veli\n",
       "2    Ayşe\n",
       "dtype: object"
      ]
     },
     "execution_count": 9,
     "metadata": {},
     "output_type": "execute_result"
    }
   ],
   "source": [
    "isimler[:3] # ilk üç isim"
   ]
  },
  {
   "cell_type": "code",
   "execution_count": 10,
   "id": "93295d73-4c68-43f3-9902-0b6d346ccdf3",
   "metadata": {},
   "outputs": [
    {
     "data": {
      "text/plain": [
       "4    Mehmet\n",
       "dtype: object"
      ]
     },
     "execution_count": 10,
     "metadata": {},
     "output_type": "execute_result"
    }
   ],
   "source": [
    "isimler[-1:] #sonuncu kişi"
   ]
  },
  {
   "cell_type": "code",
   "execution_count": 11,
   "id": "52a2418d-c774-4580-bbdb-9724eb28bf57",
   "metadata": {},
   "outputs": [
    {
     "data": {
      "text/plain": [
       "3     Ahmet\n",
       "4    Mehmet\n",
       "dtype: object"
      ]
     },
     "execution_count": 11,
     "metadata": {},
     "output_type": "execute_result"
    }
   ],
   "source": [
    "isimler[-2:] #son iki kişi"
   ]
  },
  {
   "cell_type": "code",
   "execution_count": 12,
   "id": "91a09ae8-f9fa-4c02-8bf0-43b39a4afa6e",
   "metadata": {},
   "outputs": [
    {
     "data": {
      "text/plain": [
       "4    Mehmet\n",
       "3     Ahmet\n",
       "2      Ayşe\n",
       "1      Veli\n",
       "0       Ali\n",
       "dtype: object"
      ]
     },
     "execution_count": 12,
     "metadata": {},
     "output_type": "execute_result"
    }
   ],
   "source": [
    "isimler[::-1]"
   ]
  },
  {
   "cell_type": "code",
   "execution_count": 13,
   "id": "a5e0a7f3-b22b-48d8-948d-3d55afc3f25c",
   "metadata": {},
   "outputs": [
    {
     "data": {
      "text/plain": [
       "0      Ali\n",
       "2     Ayşe\n",
       "3    Ahmet\n",
       "dtype: object"
      ]
     },
     "execution_count": 13,
     "metadata": {},
     "output_type": "execute_result"
    }
   ],
   "source": [
    "isimler[isimler.str.startswith(\"A\")]"
   ]
  },
  {
   "cell_type": "code",
   "execution_count": 14,
   "id": "03db31d8-7850-4f3e-922a-5aeddde0e21e",
   "metadata": {},
   "outputs": [
    {
     "data": {
      "text/plain": [
       "3     Ahmet\n",
       "4    Mehmet\n",
       "dtype: object"
      ]
     },
     "execution_count": 14,
     "metadata": {},
     "output_type": "execute_result"
    }
   ],
   "source": [
    "isimler[isimler.str.endswith(\"met\")] #sonu berlirli bir hece ile bitenler"
   ]
  },
  {
   "cell_type": "code",
   "execution_count": 15,
   "id": "b901e540-d7ae-4752-9920-bbc29c16f62c",
   "metadata": {},
   "outputs": [
    {
     "data": {
      "text/plain": [
       "0       ali\n",
       "1      veli\n",
       "2      ayşe\n",
       "3     ahmet\n",
       "4    mehmet\n",
       "dtype: object"
      ]
     },
     "execution_count": 15,
     "metadata": {},
     "output_type": "execute_result"
    }
   ],
   "source": [
    "isimler.str.lower() #kelimeleri küçük harf yapar"
   ]
  },
  {
   "cell_type": "code",
   "execution_count": 16,
   "id": "f02b5cb1-cead-43af-bc23-b5246f51f19d",
   "metadata": {},
   "outputs": [
    {
     "data": {
      "text/plain": [
       "0       Ali\n",
       "1      Veli\n",
       "2      Ayşe\n",
       "3     Ahmet\n",
       "4    Mehmet\n",
       "dtype: object"
      ]
     },
     "execution_count": 16,
     "metadata": {},
     "output_type": "execute_result"
    }
   ],
   "source": [
    "isimler"
   ]
  },
  {
   "cell_type": "code",
   "execution_count": 17,
   "id": "1093b614-5b75-4c56-aa09-ee1a74a1cbf8",
   "metadata": {},
   "outputs": [
    {
     "data": {
      "text/plain": [
       "0       ALI\n",
       "1      VELI\n",
       "2      AYŞE\n",
       "3     AHMET\n",
       "4    MEHMET\n",
       "dtype: object"
      ]
     },
     "execution_count": 17,
     "metadata": {},
     "output_type": "execute_result"
    }
   ],
   "source": [
    "isimler.str.upper()#Türkçe karakter büyük harf sorunu"
   ]
  },
  {
   "cell_type": "code",
   "execution_count": 18,
   "id": "04f1b964-1ade-439c-9e73-c041811ae3f7",
   "metadata": {},
   "outputs": [],
   "source": [
    "sehirler=pd.Series([\"Ankara\",\"Istanbul\",\"Izmir\",\"Izmir\",\"Ankara\",\"Ankara\",\"Kütahya\",\"Eskişehir\"])"
   ]
  },
  {
   "cell_type": "code",
   "execution_count": 19,
   "id": "f2ddb29b-df78-497d-8b8b-cf2099707b9c",
   "metadata": {},
   "outputs": [
    {
     "data": {
      "text/plain": [
       "3"
      ]
     },
     "execution_count": 19,
     "metadata": {},
     "output_type": "execute_result"
    }
   ],
   "source": [
    "(sehirler==\"Ankara\").sum()"
   ]
  },
  {
   "cell_type": "code",
   "execution_count": 20,
   "id": "2b8aa164-0924-499b-862b-daa05f271720",
   "metadata": {},
   "outputs": [
    {
     "data": {
      "text/plain": [
       "Ankara       3\n",
       "Izmir        2\n",
       "Istanbul     1\n",
       "Kütahya      1\n",
       "Eskişehir    1\n",
       "Name: count, dtype: int64"
      ]
     },
     "execution_count": 20,
     "metadata": {},
     "output_type": "execute_result"
    }
   ],
   "source": [
    "sehirler.value_counts()"
   ]
  },
  {
   "cell_type": "code",
   "execution_count": 21,
   "id": "21821df5-8e54-4831-bb15-ffe9d89eab7d",
   "metadata": {},
   "outputs": [],
   "source": [
    "takimlar=pd.Series([\"FB\",\"FB\",\"FB\",\"FB\",\"FB\",\"FB\",\"GS\",\"GS\",\"BJK\"])"
   ]
  },
  {
   "cell_type": "code",
   "execution_count": 22,
   "id": "48fae44f-c598-4b1d-a4ea-b9b861d72b2a",
   "metadata": {},
   "outputs": [
    {
     "data": {
      "text/plain": [
       "FB     6\n",
       "GS     2\n",
       "BJK    1\n",
       "Name: count, dtype: int64"
      ]
     },
     "execution_count": 22,
     "metadata": {},
     "output_type": "execute_result"
    }
   ],
   "source": [
    "takimlar.value_counts()"
   ]
  },
  {
   "cell_type": "code",
   "execution_count": 23,
   "id": "2013854d-0baa-423f-bf0c-7a2784f5214e",
   "metadata": {},
   "outputs": [
    {
     "data": {
      "text/plain": [
       "FB     0.666667\n",
       "GS     0.222222\n",
       "BJK    0.111111\n",
       "Name: proportion, dtype: float64"
      ]
     },
     "execution_count": 23,
     "metadata": {},
     "output_type": "execute_result"
    }
   ],
   "source": [
    "takimlar.value_counts(normalize=True)"
   ]
  },
  {
   "cell_type": "code",
   "execution_count": 24,
   "id": "5316082c-8daa-4d1b-87f9-4695733dd551",
   "metadata": {},
   "outputs": [
    {
     "data": {
      "text/plain": [
       "<Axes: >"
      ]
     },
     "execution_count": 24,
     "metadata": {},
     "output_type": "execute_result"
    },
    {
     "data": {
      "image/png": "[encoded data removed]",
      "text/plain": [
       "<Figure size 640x480 with 1 Axes>"
      ]
     },
     "metadata": {},
     "output_type": "display_data"
    }
   ],
   "source": [
    "takimlar.value_counts().plot.bar()"
   ]
  },
  {
   "cell_type": "code",
   "execution_count": 25,
   "id": "1a8f33ec-d5d0-492f-8cf5-9e392d432f64",
   "metadata": {},
   "outputs": [],
   "source": [
    "import seaborn as sns\n",
    "#Veri görselleştirme kütüphanesi"
   ]
  },
  {
   "cell_type": "code",
   "execution_count": 26,
   "id": "8cdc2e70-3f82-4e6e-b724-0672bc34c936",
   "metadata": {},
   "outputs": [
    {
     "data": {
      "text/plain": [
       "<Axes: xlabel='None', ylabel='count'>"
      ]
     },
     "execution_count": 26,
     "metadata": {},
     "output_type": "execute_result"
    },
    {
     "data": {
      "image/png": "[encoded data removed]",
      "text/plain": [
       "<Figure size 640x480 with 1 Axes>"
      ]
     },
     "metadata": {},
     "output_type": "display_data"
    }
   ],
   "source": [
    "sns.set_style(\"darkgrid\")\n",
    "sns.countplot(x=takimlar)"
   ]
  },
  {
   "cell_type": "code",
   "execution_count": 27,
   "id": "9158c66f-1e3a-4a09-b484-a834b2d6f41f",
   "metadata": {},
   "outputs": [
    {
     "data": {
      "text/plain": [
       "0    50\n",
       "1    60\n",
       "2    50\n",
       "3    23\n",
       "4    45\n",
       "5    87\n",
       "6    56\n",
       "7    98\n",
       "8    99\n",
       "dtype: int64"
      ]
     },
     "execution_count": 27,
     "metadata": {},
     "output_type": "execute_result"
    }
   ],
   "source": [
    "puanlar=pd.Series([50,60,50,23,45,87,56,98,99])\n",
    "puanlar"
   ]
  },
  {
   "cell_type": "code",
   "execution_count": 28,
   "id": "e9dbe076-413e-4e53-b0df-f7f3f532c863",
   "metadata": {},
   "outputs": [
    {
     "data": {
      "text/plain": [
       "63.111111111111114"
      ]
     },
     "execution_count": 28,
     "metadata": {},
     "output_type": "execute_result"
    }
   ],
   "source": [
    "puanlar.mean()"
   ]
  },
  {
   "cell_type": "code",
   "execution_count": 29,
   "id": "2a98515c-04d1-4209-a9fc-da55aa67620e",
   "metadata": {},
   "outputs": [
    {
     "data": {
      "text/plain": [
       "26.02135874836499"
      ]
     },
     "execution_count": 29,
     "metadata": {},
     "output_type": "execute_result"
    }
   ],
   "source": [
    "puanlar.std()"
   ]
  },
  {
   "cell_type": "code",
   "execution_count": 30,
   "id": "32775eaa-7aa3-414b-ae50-b318739b3426",
   "metadata": {},
   "outputs": [
    {
     "data": {
      "text/plain": [
       "99"
      ]
     },
     "execution_count": 30,
     "metadata": {},
     "output_type": "execute_result"
    }
   ],
   "source": [
    "puanlar.max()"
   ]
  },
  {
   "cell_type": "code",
   "execution_count": 31,
   "id": "dcbef981-7dce-4a01-8dba-3d77c32def7f",
   "metadata": {},
   "outputs": [
    {
     "data": {
      "text/plain": [
       "23"
      ]
     },
     "execution_count": 31,
     "metadata": {},
     "output_type": "execute_result"
    }
   ],
   "source": [
    "puanlar.min()"
   ]
  },
  {
   "cell_type": "code",
   "execution_count": 32,
   "id": "e19ce9a7-fc46-4de2-9848-544a55740507",
   "metadata": {},
   "outputs": [
    {
     "data": {
      "text/plain": [
       "2"
      ]
     },
     "execution_count": 32,
     "metadata": {},
     "output_type": "execute_result"
    }
   ],
   "source": [
    "puanlar[puanlar<50].count()"
   ]
  },
  {
   "cell_type": "code",
   "execution_count": 33,
   "id": "3273f1e5-e8bc-4174-9a58-9f71603e021d",
   "metadata": {},
   "outputs": [
    {
     "data": {
      "text/plain": [
       "0     51\n",
       "1     61\n",
       "2     51\n",
       "3     24\n",
       "4     46\n",
       "5     88\n",
       "6     57\n",
       "7     99\n",
       "8    100\n",
       "dtype: int64"
      ]
     },
     "execution_count": 33,
     "metadata": {},
     "output_type": "execute_result"
    }
   ],
   "source": [
    "puanlar=puanlar+1\n",
    "puanlar"
   ]
  },
  {
   "cell_type": "code",
   "execution_count": 34,
   "id": "22450dcc-6850-41a1-aab9-d4713211e0d6",
   "metadata": {},
   "outputs": [
    {
     "data": {
      "text/plain": [
       "0     120\n",
       "1      90\n",
       "2      80\n",
       "3      60\n",
       "4      90\n",
       "5      80\n",
       "6     100\n",
       "7     120\n",
       "8      90\n",
       "9     150\n",
       "10    180\n",
       "11    200\n",
       "dtype: int64"
      ]
     },
     "execution_count": 34,
     "metadata": {},
     "output_type": "execute_result"
    }
   ],
   "source": [
    "# Üretim Miktarları\n",
    "uretim=pd.Series([120,90,80,60,90,80,100,120,90,150,180,200])\n",
    "uretim"
   ]
  },
  {
   "cell_type": "code",
   "execution_count": 35,
   "id": "ac6d9ace-8f3e-45eb-8577-4de0100d23eb",
   "metadata": {},
   "outputs": [
    {
     "data": {
      "text/plain": [
       "<Axes: >"
      ]
     },
     "execution_count": 35,
     "metadata": {},
     "output_type": "execute_result"
    },
    {
     "data": {
      "image/png": "[encoded data removed]",
      "text/plain": [
       "<Figure size 640x480 with 1 Axes>"
      ]
     },
     "metadata": {},
     "output_type": "display_data"
    }
   ],
   "source": [
    "uretim.plot()"
   ]
  },
  {
   "cell_type": "code",
   "execution_count": 36,
   "id": "86ac49b8-fca3-4bef-a154-bef230e69f20",
   "metadata": {},
   "outputs": [],
   "source": [
    "import warnings\n",
    "warnings.filterwarnings(\"ignore\") #uyarıları kapatıyoruz"
   ]
  },
  {
   "cell_type": "code",
   "execution_count": 37,
   "id": "6cb81e58-d744-4707-a0dc-de1b1e108161",
   "metadata": {},
   "outputs": [
    {
     "data": {
      "text/plain": [
       "DatetimeIndex(['2023-01-31', '2023-02-28', '2023-03-31', '2023-04-30',\n",
       "               '2023-05-31', '2023-06-30', '2023-07-31', '2023-08-31',\n",
       "               '2023-09-30', '2023-10-31', '2023-11-30', '2023-12-31'],\n",
       "              dtype='datetime64[ns]', freq='ME')"
      ]
     },
     "execution_count": 37,
     "metadata": {},
     "output_type": "execute_result"
    }
   ],
   "source": [
    "import datetime\n",
    "tarihler=pd.date_range(\"2023-01-01\", periods=12, freq=\"M\")\n",
    "tarihler"
   ]
  },
  {
   "cell_type": "code",
   "execution_count": 38,
   "id": "85124777-57ab-45f5-9f8a-8b341f4d4ae4",
   "metadata": {},
   "outputs": [
    {
     "data": {
      "text/plain": [
       "2023-01-31    120\n",
       "2023-02-28     90\n",
       "2023-03-31     80\n",
       "2023-04-30     60\n",
       "2023-05-31     90\n",
       "2023-06-30     80\n",
       "2023-07-31    100\n",
       "2023-08-31    120\n",
       "2023-09-30     90\n",
       "2023-10-31    150\n",
       "2023-11-30    180\n",
       "2023-12-31    200\n",
       "Freq: ME, dtype: int64"
      ]
     },
     "execution_count": 38,
     "metadata": {},
     "output_type": "execute_result"
    }
   ],
   "source": [
    "uretim_miktarlari=pd.Series([120,90,80,60,90,80,100,120,90,150,180,200],index=tarihler)\n",
    "uretim_miktarlari"
   ]
  },
  {
   "cell_type": "code",
   "execution_count": 39,
   "id": "db42d76f-221e-483d-a25a-f10d283b8dff",
   "metadata": {},
   "outputs": [
    {
     "data": {
      "text/plain": [
       "<Axes: >"
      ]
     },
     "execution_count": 39,
     "metadata": {},
     "output_type": "execute_result"
    },
    {
     "data": {
      "image/png": "[encoded data removed]",
      "text/plain": [
       "<Figure size 640x480 with 1 Axes>"
      ]
     },
     "metadata": {},
     "output_type": "display_data"
    }
   ],
   "source": [
    "uretim_miktarlari.plot()"
   ]
  },
  {
   "cell_type": "code",
   "execution_count": 40,
   "id": "1ec89731-22b0-40fe-8b8b-0b65e42ada15",
   "metadata": {},
   "outputs": [],
   "source": [
    "# Data Frame"
   ]
  },
  {
   "cell_type": "code",
   "execution_count": 41,
   "id": "54696169-a1d2-4066-9f8e-6f8954d01b25",
   "metadata": {},
   "outputs": [
    {
     "data": {
      "text/html": [
       "<div>\n",
       "<style scoped>\n",
       "    .dataframe tbody tr th:only-of-type {\n",
       "        vertical-align: middle;\n",
       "    }\n",
       "\n",
       "    .dataframe tbody tr th {\n",
       "        vertical-align: top;\n",
       "    }\n",
       "\n",
       "    .dataframe thead th {\n",
       "        text-align: right;\n",
       "    }\n",
       "</style>\n",
       "<table border=\"1\" class=\"dataframe\">\n",
       "  <thead>\n",
       "    <tr style=\"text-align: right;\">\n",
       "      <th></th>\n",
       "      <th>isim</th>\n",
       "      <th>puan</th>\n",
       "      <th>cinsiyet</th>\n",
       "    </tr>\n",
       "  </thead>\n",
       "  <tbody>\n",
       "    <tr>\n",
       "      <th>0</th>\n",
       "      <td>Ali</td>\n",
       "      <td>50</td>\n",
       "      <td>E</td>\n",
       "    </tr>\n",
       "    <tr>\n",
       "      <th>1</th>\n",
       "      <td>Veli</td>\n",
       "      <td>60</td>\n",
       "      <td>E</td>\n",
       "    </tr>\n",
       "    <tr>\n",
       "      <th>2</th>\n",
       "      <td>Ahmet</td>\n",
       "      <td>50</td>\n",
       "      <td>E</td>\n",
       "    </tr>\n",
       "    <tr>\n",
       "      <th>3</th>\n",
       "      <td>Merve</td>\n",
       "      <td>23</td>\n",
       "      <td>K</td>\n",
       "    </tr>\n",
       "    <tr>\n",
       "      <th>4</th>\n",
       "      <td>Melike Nur</td>\n",
       "      <td>45</td>\n",
       "      <td>K</td>\n",
       "    </tr>\n",
       "  </tbody>\n",
       "</table>\n",
       "</div>"
      ],
      "text/plain": [
       "         isim  puan cinsiyet\n",
       "0         Ali    50        E\n",
       "1        Veli    60        E\n",
       "2       Ahmet    50        E\n",
       "3       Merve    23        K\n",
       "4  Melike Nur    45        K"
      ]
     },
     "execution_count": 41,
     "metadata": {},
     "output_type": "execute_result"
    }
   ],
   "source": [
    "isimler=pd.Series([\"Ali\",\"Veli\",\"Ahmet\",\"Merve\",\"Melike Nur\"])\n",
    "puanlar=pd.Series([50,60,50,23,45])\n",
    "cinsiyet=pd.Series([\"E\",\"E\",\"E\",\"K\",\"K\"])\n",
    "df=pd.DataFrame({\"isim\":isimler,\n",
    "                 \"puan\":puanlar,\n",
    "                 \"cinsiyet\":cinsiyet})\n",
    "df"
   ]
  },
  {
   "cell_type": "code",
   "execution_count": 42,
   "id": "4923a913-4271-4852-a6ab-ae80712d61ce",
   "metadata": {},
   "outputs": [
    {
     "name": "stdout",
     "output_type": "stream",
     "text": [
      "<class 'pandas.core.frame.DataFrame'>\n",
      "RangeIndex: 5 entries, 0 to 4\n",
      "Data columns (total 3 columns):\n",
      " #   Column    Non-Null Count  Dtype \n",
      "---  ------    --------------  ----- \n",
      " 0   isim      5 non-null      object\n",
      " 1   puan      5 non-null      int64 \n",
      " 2   cinsiyet  5 non-null      object\n",
      "dtypes: int64(1), object(2)\n",
      "memory usage: 252.0+ bytes\n"
     ]
    }
   ],
   "source": [
    "df.info()"
   ]
  },
  {
   "cell_type": "code",
   "execution_count": 43,
   "id": "281f0b5b-742d-47d3-9006-0025ddc1a204",
   "metadata": {},
   "outputs": [
    {
     "data": {
      "text/plain": [
       "0           Ali\n",
       "1          Veli\n",
       "2         Ahmet\n",
       "3         Merve\n",
       "4    Melike Nur\n",
       "Name: isim, dtype: object"
      ]
     },
     "execution_count": 43,
     "metadata": {},
     "output_type": "execute_result"
    }
   ],
   "source": [
    "df[\"isim\"]"
   ]
  },
  {
   "cell_type": "code",
   "execution_count": 44,
   "id": "3b80fbeb-40d0-402d-8792-f8b4734c0977",
   "metadata": {},
   "outputs": [
    {
     "data": {
      "text/plain": [
       "0    50\n",
       "1    60\n",
       "2    50\n",
       "3    23\n",
       "4    45\n",
       "Name: puan, dtype: int64"
      ]
     },
     "execution_count": 44,
     "metadata": {},
     "output_type": "execute_result"
    }
   ],
   "source": [
    "df[\"puan\"]"
   ]
  },
  {
   "cell_type": "code",
   "execution_count": 45,
   "id": "9b388ef7-9e61-4e52-997f-079625b2473b",
   "metadata": {},
   "outputs": [
    {
     "data": {
      "text/html": [
       "<div>\n",
       "<style scoped>\n",
       "    .dataframe tbody tr th:only-of-type {\n",
       "        vertical-align: middle;\n",
       "    }\n",
       "\n",
       "    .dataframe tbody tr th {\n",
       "        vertical-align: top;\n",
       "    }\n",
       "\n",
       "    .dataframe thead th {\n",
       "        text-align: right;\n",
       "    }\n",
       "</style>\n",
       "<table border=\"1\" class=\"dataframe\">\n",
       "  <thead>\n",
       "    <tr style=\"text-align: right;\">\n",
       "      <th></th>\n",
       "      <th>isim</th>\n",
       "      <th>puan</th>\n",
       "      <th>cinsiyet</th>\n",
       "    </tr>\n",
       "  </thead>\n",
       "  <tbody>\n",
       "    <tr>\n",
       "      <th>3</th>\n",
       "      <td>Merve</td>\n",
       "      <td>23</td>\n",
       "      <td>K</td>\n",
       "    </tr>\n",
       "    <tr>\n",
       "      <th>4</th>\n",
       "      <td>Melike Nur</td>\n",
       "      <td>45</td>\n",
       "      <td>K</td>\n",
       "    </tr>\n",
       "  </tbody>\n",
       "</table>\n",
       "</div>"
      ],
      "text/plain": [
       "         isim  puan cinsiyet\n",
       "3       Merve    23        K\n",
       "4  Melike Nur    45        K"
      ]
     },
     "execution_count": 45,
     "metadata": {},
     "output_type": "execute_result"
    }
   ],
   "source": [
    "df[df[\"puan\"]<50]"
   ]
  },
  {
   "cell_type": "code",
   "execution_count": null,
   "id": "c99d6827-e40f-49c6-9b4f-1a571cabf85a",
   "metadata": {},
   "outputs": [],
   "source": []
  }
 ],
 "metadata": {
  "kernelspec": {
   "display_name": "Python 3 (ipykernel)",
   "language": "python",
   "name": "python3"
  },
  "language_info": {
   "codemirror_mode": {
    "name": "ipython",
    "version": 3
   },
   "file_extension": ".py",
   "mimetype": "text/x-python",
   "name": "python",
   "nbconvert_exporter": "python",
   "pygments_lexer": "ipython3",
   "version": "3.12.4"
  }
 },
 "nbformat": 4,
 "nbformat_minor": 5
}
